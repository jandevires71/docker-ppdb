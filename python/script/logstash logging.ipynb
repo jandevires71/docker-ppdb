{
 "cells": [
  {
   "cell_type": "code",
   "execution_count": 2,
   "metadata": {},
   "outputs": [],
   "source": [
    "import logging\n",
    "import logstash\n",
    "import sys\n",
    "\n",
    "host = 'logstash'\n",
    "\n",
    "test_logger = logging.getLogger('python-logstash-logger')\n",
    "test_logger.setLevel(logging.INFO)\n",
    "test_logger.addHandler(logstash.TCPLogstashHandler(host, 5000, version=1))\n",
    "\n",
    "#test_logger.error('python-logstash: test logstash error message.')\n",
    "#test_logger.info('python-logstash: test logstash info message.')\n",
    "#test_logger.warning('python-logstash: test logstash warning message.')\n",
    "\n",
    "# add extra field to logstash message\n",
    "extra = {\n",
    "    'test_boolean': True,\n",
    "    'test_integer' : 123,\n",
    "    'test_float' : 3.141,\n",
    "}\n",
    "#test_logger.info('python-logstash: test extra fields', extra=extra)\n",
    "test_logger.info('joep-i-logstash: test logstash info message.', extra=extra)\n"
   ]
  },
  {
   "cell_type": "code",
   "execution_count": null,
   "metadata": {},
   "outputs": [],
   "source": []
  }
 ],
 "metadata": {
  "kernelspec": {
   "display_name": "Python 3",
   "language": "python",
   "name": "python3"
  },
  "language_info": {
   "codemirror_mode": {
    "name": "ipython",
    "version": 3
   },
   "file_extension": ".py",
   "mimetype": "text/x-python",
   "name": "python",
   "nbconvert_exporter": "python",
   "pygments_lexer": "ipython3",
   "version": "3.6.5"
  }
 },
 "nbformat": 4,
 "nbformat_minor": 2
}
